{
 "cells": [
  {
   "cell_type": "markdown",
   "metadata": {},
   "source": [
    "# Gabarito da Lista 1\n",
    "### MAC0336 Criptografia - 2016 - Routo Terada\n",
    "### Thales Paiva <thalespaiva@gmail.com>"
   ]
  },
  {
   "cell_type": "markdown",
   "metadata": {},
   "source": [
    "### Exercício 1"
   ]
  },
  {
   "cell_type": "markdown",
   "metadata": {},
   "source": [
    "*Enunciado.* Mostre que $ \\text{DES}_\\overline{K}(\\overline{X}) = \\overline{\\text{DES}_K(X)}$."
   ]
  },
  {
   "cell_type": "markdown",
   "metadata": {},
   "source": [
    "*Demonstração.* "
   ]
  },
  {
   "cell_type": "markdown",
   "metadata": {},
   "source": [
    "Uma operação $O$ do DES pode ser de dois tipos exclusivos:\n",
    "1. $O(\\overline{x}) = \\overline{O(x)}$\n",
    "2. $O(\\overline{x}) \\neq \\overline{O(x)}$"
   ]
  },
  {
   "cell_type": "markdown",
   "metadata": {},
   "source": [
    "Em particular, operações de deslocamento, permutação, expansão, contração, e separação em blocos esquerda e direita, são do tipo 1. Enquanto operações de substituição são do tipo 2. Precisamos mostrar que, sempre que houver uma operação to tipo 2, a entrada é a mesma. "
   ]
  },
  {
   "cell_type": "markdown",
   "metadata": {},
   "source": [
    "**_Fato 1_**. Chame as chaves intermediárias de $\\text{DES}_K$ e $\\text{DES}_\\overline{K}$ de $K^D_i$ e $K^\\overline{D}_ i$, respectivamente. Então $K^\\overline{D}_i = \\overline{K^D_i}$. \n",
    "\n",
    "Isso pois na geração de subchaves só há operações do tipo 1, a saber: permutação da chave inicial, serparação em blocos esquerda e direita, deslocamento à esquerda dos blocos, permutação e contração.\n",
    "\n",
    "Agora, podemos chamar $K_i$ a i-ésima subchave de $\\text{DES}_K$, e $\\overline{K_i}$, a i-ésima subchave de $\\text{DES}_\\overline{K}$."
   ]
  },
  {
   "cell_type": "markdown",
   "metadata": {},
   "source": [
    "**_Fato 2_**. $f_\\overline{K_i}(\\overline{X}) = f_{K_i}(X)$.\n",
    "\n",
    "Isso pois:\n",
    "$f_\\overline{K_i}(\\overline{X}) = \\text{Perm}(\\text{Subs}(\\text{Exp}(\\overline{X}) \\oplus \\overline{K_i})) = \\text{Perm}(\\text{Subs}(\\text{Exp}(X) \\oplus K_i)) = f_{K_i}(X)$."
   ]
  },
  {
   "cell_type": "markdown",
   "metadata": {},
   "source": [
    "**_Fato 3_**. $\\overline{X} \\oplus Y = \\overline{X \\oplus Y}$. Pois, sejam $X$ e $Y$ bits, $\\overline{X \\oplus Y} = 0 \\Leftrightarrow \\overline{X} = Y \\Leftrightarrow \\overline{X} \\oplus Y = 0 $. E $\\overline{X \\oplus Y} = 1 \\Leftrightarrow X = Y \\Leftrightarrow \\overline{X} \\oplus Y = 1 $.\n",
    "\n",
    "Obviamente o fato vale para sequências de bits, para a operação $\\oplus$ aplicada bit a bit.  \n"
   ]
  },
  {
   "cell_type": "markdown",
   "metadata": {},
   "source": [
    "*Análise por passos do DES*. A cada passo, $y^D_p$ e $y^\\overline{D}_p$ indicam as saída do passo $p$ para $\\text{DES}_K$ e $\\text{DES}_\\overline{D}$, respectivamente."
   ]
  },
  {
   "cell_type": "markdown",
   "metadata": {},
   "source": [
    "$(i)$ Permutação IP é do tipo 1. Então $y_1^\\overline{D} = \\overline{y_1^D}$"
   ]
  },
  {
   "cell_type": "markdown",
   "metadata": {},
   "source": [
    "$(ii)$ Iteração. Vejamos o que acontece na i-ésima iteração supondo que $y_i^\\overline{D} = \\overline{y_i^D}$.\n",
    "\n",
    "\\begin{align}\n",
    "\\text{Esq}(y^\\overline{D}_{i+1}) = & \\text{Dir}(y^\\overline{D}_{i}) = \\text{Dir}(\\overline{y^{D}_{i}}) = \\overline{\\text{Dir}(y^{D}_{i})} = \\overline{\\text{Esq}(y^{D}_{i+1})}\n",
    "\\\\\n",
    "\\\\\n",
    "\\text{Dir}(y^\\overline{D}_{i+1}) \\stackrel{\\ \\ \\ \\  \\ }{=} & \\text{Esq}(y^\\overline{D}_{i}) \\oplus f_{\\overline{K_i}}(\\text{Dir}(y^\\overline{D}_{i})) = \\text{Esq}(\\overline{y^{D}_{i}}) \\oplus f_{\\overline{K_i}}(\\text{Dir}(\\overline{y^{D}_{i}}))  \\\\\n",
    "\\stackrel{\\text{F. 2}}{=} & \\text{Esq}(\\overline{y^{D}_{i}}) \\oplus f_{K_i}(\\text{Dir}(y^{D}_{i})) = \\overline{\\text{Esq}(y^{D}_{i})} \\oplus f_{K_i}(\\text{Dir}(y^{D}_{i})) \\\\\n",
    "\\stackrel{\\text{F. 3}}{=} & \\overline{\\text{Esq}(y^{D}_{i}) \\oplus f_{K_i}(\\text{Dir}(y^{D}_{i}))} = \\overline{\\text{Dir}(y^D_{i+1})}\n",
    "\\end{align}\n"
   ]
  },
  {
   "cell_type": "markdown",
   "metadata": {},
   "source": [
    "$(iii)$ Então, como $y_1^\\overline{D} = \\overline{y_1^D}$, devemos ter que ao final das 16 iterações: $y_{17}^\\overline{D} = \\overline{y_{17}^D}$.\n"
   ]
  },
  {
   "cell_type": "markdown",
   "metadata": {},
   "source": [
    "$(iv)$ Troca de metades é operação do tipo 1. Então $y_{18}^\\overline{D} = \\overline{y_{18}^D}$"
   ]
  },
  {
   "cell_type": "markdown",
   "metadata": {},
   "source": [
    "$(v)$ Permutação $IP^{-1}$ é operação do tipo 1. Então $y_{19}^\\overline{D} = \\overline{y_{19}^D}$."
   ]
  },
  {
   "cell_type": "markdown",
   "metadata": {},
   "source": [
    "Como o resultado final de $\\text{DES}_\\overline{K}(\\overline{X})$ é o complemento do resultado final de $\\text{DES}_K(X)$, temos que:\n",
    "$$\n",
    "\\text{DES}_\\overline{K}(\\overline{X}) = \\overline{\\text{DES}_K(X)}\n",
    "$$"
   ]
  },
  {
   "cell_type": "markdown",
   "metadata": {},
   "source": [
    "### Exercício 2"
   ]
  },
  {
   "cell_type": "markdown",
   "metadata": {},
   "source": [
    "*Enunciado.* Considere a seguinte operação de multiplicação $\\otimes$ definida sobre o $\\text{GF}(2^8)$.\n",
    "\n",
    "$(i)$ Sejam $B$ e $C$ elementos de $\\text{GF}(2^8)$, onde $B = (b_1 b_2 b_3 b_4 b_5 b_6 b_7 b_8)_2$ e $ C = (c_1 c_2 c_3 c_4 c_5 c_6 c_7 c_8)_2$, e cada bit $b_i$ e $c_j$ podem assumir apenas os valores 0 ou 1.\n",
    "\n",
    "$(ii)$ Tomamos os polinômios associados a $B$ e a $C$, respectivamente $p_B(x)$ e $p_C(x)$, onde, para um elemento qualquer $Y$ do $GF(2^8)$, tem-se que $p_Y = y_7x^7 + \\ldots + y_1x + y_0$.\n",
    "\n",
    "$(iii)$ Tome o polinômio $ q(x)$ como sendo o produto dos polinômios $p_B$ e $p_C$ tirando o módulo 2 dos coeficientes.\n",
    "\n",
    "$(iv)$ Chamando de $D$ o produto $B \\otimes C$, o polinômio $p_D(x)$ é o resto da divisão polinomial de $ q(x)$ por $m(x)$, onde $m(x)$ é o polinômio $x^8 + x^4 + x^3 + x + 1$, irredutível em $\\text{GF}(2^8)$.\n",
    "\n",
    "*Obs: por conveniência, vamos nos referir aos elementos de $\\text{GF}(2^8)$ em notação hexadecimal. Assim, (A1) corresponde ao elemento (10100001).*"
   ]
  },
  {
   "cell_type": "markdown",
   "metadata": {},
   "source": [
    "*2.1.1* Escreva os passos da multiplicação $ R = (59)\\ \\otimes (A1) $"
   ]
  },
  {
   "cell_type": "markdown",
   "metadata": {},
   "source": [
    "*Resolução*."
   ]
  },
  {
   "cell_type": "markdown",
   "metadata": {},
   "source": [
    "$(i)$ Do enunciado, $B = (59)_{16} = (01011001)_2 $, e $C = (A1)_{16} = (10100001)_2 $.\n",
    "\n",
    "$(ii)$ Então os polinômios correspondentes são: $p_B = x^6 + x^4 + x^3 + 1$ e $p_C = x^7 + x^5 + 1$.\n",
    "\n",
    "$(iii)$ O produto dos polinômios é $p_B(x)p_C(x) = x^{13} + 2x^{11} + x^{10} + x^9 + x^8 + x^7 + x^6 + x^5 + x^4 + x^3 + x^1 $. Então, tirando módulo 2 dos coeficientes, temos $q(x) = x^{13} + x^{10} + x^9 + x^8 + x^7 + x^6 + x^5 + x^4 + x^3 + x^1$.\n",
    "\n",
    "$(iv)$ Dividindo $q(x)$ por $m(x)$, obtemos o resto $ p_R(x) = x^7 + x^6 + x^5 + x^4 + x^2 + 1$. Assim, o $ R = (59)\\ \\otimes (A1) = (11110101) = (F5) $."
   ]
  },
  {
   "cell_type": "markdown",
   "metadata": {},
   "source": [
    "*Resolução em Sage.*"
   ]
  },
  {
   "cell_type": "markdown",
   "metadata": {},
   "source": [
    "Como iremos trabalhar com polinômios com coeficientes em $\\text{GF}(2)$, vamos inicializar nosso anel polinomial com coeficientes em $\\{0, 1\\}$."
   ]
  },
  {
   "cell_type": "code",
   "execution_count": 4,
   "metadata": {
    "collapsed": true
   },
   "outputs": [],
   "source": [
    "ring.<x> = PolynomialRing(GF(2))"
   ]
  },
  {
   "cell_type": "markdown",
   "metadata": {},
   "source": [
    "Os polinômios associados a $B$ e a $C$, estão em `ring`, e são:"
   ]
  },
  {
   "cell_type": "code",
   "execution_count": 5,
   "metadata": {
    "collapsed": true
   },
   "outputs": [],
   "source": [
    "p_b = x^6 + x^4 + x^3 + 1"
   ]
  },
  {
   "cell_type": "code",
   "execution_count": 6,
   "metadata": {
    "collapsed": true
   },
   "outputs": [],
   "source": [
    "p_c = x^7 + x^5 + 1"
   ]
  },
  {
   "cell_type": "code",
   "execution_count": 7,
   "metadata": {
    "collapsed": false
   },
   "outputs": [
    {
     "data": {
      "text/plain": [
       "True"
      ]
     },
     "execution_count": 7,
     "metadata": {},
     "output_type": "execute_result"
    }
   ],
   "source": [
    "p_b in ring and p_c in ring"
   ]
  },
  {
   "cell_type": "markdown",
   "metadata": {},
   "source": [
    "O produto dos polinômios `p_b` e `p_c` é `q`:"
   ]
  },
  {
   "cell_type": "code",
   "execution_count": 8,
   "metadata": {
    "collapsed": false
   },
   "outputs": [],
   "source": [
    "q = p_b * p_c"
   ]
  },
  {
   "cell_type": "markdown",
   "metadata": {},
   "source": [
    "Note que não precisamos tirar módulo 2 dos coeficientes pois em `ring`, os polinômios já têm coeficientes em $\\text{GF}(2)$."
   ]
  },
  {
   "cell_type": "code",
   "execution_count": 9,
   "metadata": {
    "collapsed": false
   },
   "outputs": [
    {
     "name": "stdout",
     "output_type": "stream",
     "text": [
      "x^13 + x^10 + x^9 + x^8 + x^7 + x^6 + x^5 + x^4 + x^3 + 1\n"
     ]
    }
   ],
   "source": [
    "print(q)"
   ]
  },
  {
   "cell_type": "markdown",
   "metadata": {},
   "source": [
    "Agora definimos `m`:"
   ]
  },
  {
   "cell_type": "code",
   "execution_count": 10,
   "metadata": {
    "collapsed": true
   },
   "outputs": [],
   "source": [
    "m = x^8 + x^4 + x^3 + x + 1"
   ]
  },
  {
   "cell_type": "markdown",
   "metadata": {},
   "source": [
    "E o polinômio relacionado a $R$ é:"
   ]
  },
  {
   "cell_type": "code",
   "execution_count": 11,
   "metadata": {
    "collapsed": false
   },
   "outputs": [],
   "source": [
    "p_r = q.mod(m)"
   ]
  },
  {
   "cell_type": "code",
   "execution_count": 12,
   "metadata": {
    "collapsed": false
   },
   "outputs": [
    {
     "data": {
      "text/plain": [
       "x^7 + x^6 + x^5 + x^4 + x^2 + 1"
      ]
     },
     "execution_count": 12,
     "metadata": {},
     "output_type": "execute_result"
    }
   ],
   "source": [
    "p_r"
   ]
  },
  {
   "cell_type": "code",
   "execution_count": 13,
   "metadata": {
    "collapsed": true
   },
   "outputs": [],
   "source": [
    "R = p_r.coefficients(sparse=False)"
   ]
  },
  {
   "cell_type": "markdown",
   "metadata": {},
   "source": [
    "E como os coefficientes são dados na ordem inversa do expoentes (menor para o maior):"
   ]
  },
  {
   "cell_type": "code",
   "execution_count": 14,
   "metadata": {
    "collapsed": false
   },
   "outputs": [],
   "source": [
    "R.reverse()"
   ]
  },
  {
   "cell_type": "code",
   "execution_count": 15,
   "metadata": {
    "collapsed": false
   },
   "outputs": [
    {
     "name": "stdout",
     "output_type": "stream",
     "text": [
      "[1, 1, 1, 1, 0, 1, 0, 1]\n"
     ]
    }
   ],
   "source": [
    "print(R)"
   ]
  },
  {
   "cell_type": "markdown",
   "metadata": {},
   "source": [
    "*2.1.1* Calcule o $R^{-1} \\mod m(x)$ para $R = x^7 + x^6 + x^5 + x^4 + x^2 + 1$, e $m(x) = x^8 + x^4 + x^3 + x + 1$."
   ]
  },
  {
   "cell_type": "markdown",
   "metadata": {},
   "source": [
    "*Resolução*."
   ]
  },
  {
   "cell_type": "markdown",
   "metadata": {},
   "source": [
    "Para calcular $R^{-1}$, basta usar o algoritmo de euclides estendido `EuclidEst`, para polinômios. Ao aplicarmos esse algoritmo sobre a entrada $(R, m)$, obtemos polinômios $s$, $t$, tais que:\n",
    "$$\n",
    "R(x) \\times s(x) + m(x) \\times t(x) = \\gcd (R, m). \n",
    "$$\n",
    "\n",
    "E como $m(x)$ é primo em $\\text{GF}(2^8)$:\n",
    "$$\n",
    "R(x) \\times s(x) + m(x) \\times t(x) = 1 \\Rightarrow R(x) \\times s(x) = 1 \\mod m(x)\n",
    "$$\n",
    "\n",
    "E $s(x)$ será o inverso de $R \\mod m(x)$  procurado."
   ]
  },
  {
   "cell_type": "markdown",
   "metadata": {},
   "source": [
    "Abaixo, podemos ver a tabela do algoritmo de euclides estendido para aquela entrada, e tirando a coluna inutil $t_i(x)$. Lembre que $s_i(x) = s_{i-2}(x) - q(x)s_{i-1}(x)$."
   ]
  },
  {
   "cell_type": "markdown",
   "metadata": {},
   "source": [
    "\n",
    "|$i$   |$p_{i-2}(x)$|$p_{i-1}(x)$|$q_i(x)$| $p_i(x) \\leftarrow p_{i-2}(x) \\mod p_{i-1}(x)$| $s_i(x)$ |\n",
    "|----|\n",
    "|$-2$| | | | | $1$ |\n",
    "|$-1$| | | | | $0$ |\n",
    "|$0 $|$x^7+x^6+x^5+x^4+x^2+1$|$x^8+x^4+x^3+x+1$|$0$ |$x^7+x^6+x^5+x^4+x^2+1$|$1$|\n",
    "|$1 $|$x^8+x^4+x^3+x+1$|$x^7+x^6+x^5+x^4+x^2+1$|$x + 1$|$x^2$|$-x-1$|\n",
    "|$2 $|$x^7+x^6+x^5+x^4+x^2+1$|$x^2$|$x^5+x^4+x^3+x^2+1$|$1$|$x^6+x^2+x$| \n",
    "|$3 $|$x^2$|$1$|$x^2$|$0$|\n",
    "|$4 $|$1$|$0$|\n",
    "\n"
   ]
  },
  {
   "cell_type": "markdown",
   "metadata": {},
   "source": [
    "Assim, $R^{-1}(x) = x^6 + x^2 + x$, e $R^1 = (01000110)_2 = (46)_{16} $."
   ]
  },
  {
   "cell_type": "markdown",
   "metadata": {},
   "source": [
    "*Resolução em Sage.*"
   ]
  },
  {
   "cell_type": "markdown",
   "metadata": {},
   "source": [
    "Sage já vem com métodos em elementos de anéis polinomiais para calcular a inversa módulo algum elemento primo. Então ficaria simplesmente:"
   ]
  },
  {
   "cell_type": "code",
   "execution_count": 22,
   "metadata": {
    "collapsed": false
   },
   "outputs": [
    {
     "data": {
      "text/plain": [
       "x^6 + x^2 + x"
      ]
     },
     "execution_count": 22,
     "metadata": {},
     "output_type": "execute_result"
    }
   ],
   "source": [
    "p_r.inverse_mod(m)"
   ]
  },
  {
   "cell_type": "markdown",
   "metadata": {},
   "source": [
    "### Exercício 3."
   ]
  },
  {
   "cell_type": "markdown",
   "metadata": {},
   "source": [
    "*Enunciado.* Considere a seguinte operação de multiplicação sobre $\\text{GF}(2^{32})$.\n",
    "\n",
    "$(i)$ Sejam $A$ e $B$ elementos de $\\text{GF}(2^{32})$. Representamos $A$ e $B$ por vetores de 4 bytes, respectivamente, $(a_0 a_1 a_2 a_3)$ e $(b_0 b_1 b_2 b_3)$.\n",
    "\n",
    "$(ii)$ O produto $A \\times B$ é $ D = (d_0 d_1 d_2 d_3)$, onde:\n",
    "$$\n",
    "\\left[ \\begin{matrix}\n",
    "d_0 \\\\\n",
    "d_1 \\\\\n",
    "d_2 \\\\\n",
    "g_3 \\end{matrix}\n",
    "\\right]\n",
    "= \n",
    "\\left[ \\begin{matrix}\n",
    "a_0 & a_3 & a_2 & a_1 \\\\\n",
    "a_1 & a_0 & a_3 & a_2 \\\\\n",
    "a_2 & a_1 & a_0 & a_3 \\\\\n",
    "a_3 & a_2 & a_1 & a_4 \\end{matrix}\n",
    "\\right]\n",
    "\\left[ \\begin{matrix}\n",
    "b_0 \\\\\n",
    "b_1 \\\\\n",
    "b_2 \\\\\n",
    "b_3 \\end{matrix}\n",
    "\\right]\n",
    "$$\n",
    "e a operação de soma é a operação XOR bit a bit $\\oplus$. "
   ]
  },
  {
   "cell_type": "markdown",
   "metadata": {},
   "source": [
    "*3.1* Resolva o produto $(0207060B) \\otimes (0C050D01)$"
   ]
  },
  {
   "cell_type": "markdown",
   "metadata": {},
   "source": []
  }
 ],
 "metadata": {
  "kernelspec": {
   "display_name": "SageMath 7.0",
   "language": "",
   "name": "sagemath"
  },
  "language_info": {
   "codemirror_mode": {
    "name": "ipython",
    "version": 2
   },
   "file_extension": ".py",
   "mimetype": "text/x-python",
   "name": "python",
   "nbconvert_exporter": "python",
   "pygments_lexer": "ipython2",
   "version": "2.7.11"
  }
 },
 "nbformat": 4,
 "nbformat_minor": 0
}
